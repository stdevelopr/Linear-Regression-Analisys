{
 "cells": [
  {
   "cell_type": "code",
   "execution_count": 137,
   "metadata": {},
   "outputs": [],
   "source": [
    "import ipywidgets as wg\n",
    "from IPython.display import display\n",
    "import pandas as pd\n",
    "import numpy as np\n",
    "import matplotlib.pyplot as plt"
   ]
  },
  {
   "cell_type": "code",
   "execution_count": 138,
   "metadata": {
    "scrolled": true
   },
   "outputs": [
    {
     "data": {
      "application/vnd.jupyter.widget-view+json": {
       "model_id": "a7c7079f08974673ba0573c379a73e4e",
       "version_major": 2,
       "version_minor": 0
      },
      "text/plain": [
       "aW50ZXJhY3RpdmUoY2hpbGRyZW49KEludFNsaWRlcih2YWx1ZT0wLCBkZXNjcmlwdGlvbj11J3MnLCBtYXg9MzEyNSksIEludFNsaWRlcih2YWx1ZT0zMTI1LCBkZXNjcmlwdGlvbj11J2YnLCDigKY=\n"
      ]
     },
     "metadata": {},
     "output_type": "display_data"
    },
    {
     "data": {
      "text/plain": [
       "<function __main__.lin_plot>"
      ]
     },
     "execution_count": 138,
     "metadata": {},
     "output_type": "execute_result"
    }
   ],
   "source": [
    "# Here we calculate the regression line using the fórmula\n",
    "\n",
    "df = pd.read_csv('Google.csv', usecols=['Date','Close'], parse_dates=['Date'])\n",
    "size = df.Date.size\n",
    "\n",
    "\n",
    "def lin_plot(s=0, f=size):\n",
    "    \n",
    "    start_row = s\n",
    "    end_row = f\n",
    "\n",
    "    dates = df['Date'][start_row:end_row].values.astype(np.int64) // 10 ** 9\n",
    "    prices =  df['Close'][start_row:end_row]\n",
    "\n",
    "    # Regression line: y = mx+ c\n",
    "    #The slope (m) formula is given by:\n",
    "    #        m= SUM((x-xm)(y-ym))/SUM((x-xm)^2)\n",
    "    slope = (((dates - dates.mean())*(prices-prices.mean())).sum())/(((dates-dates.mean())**2).sum())\n",
    "\n",
    "    #constant c = y-mx\n",
    "    c = prices.mean() - (dates.mean())*slope\n",
    "\n",
    "    #predicted values for the x data\n",
    "    y_pred = dates*slope + c    \n",
    "    \n",
    "#   The r² error calculated by SUM((y_pred - y_mean)²)/SUM((y - y_mean)²)\n",
    "#   More closer to the predicted line, more closer to one...\n",
    "    error = (((y_pred - prices.mean())**2).sum())/(((prices - prices.mean())**2).sum())\n",
    "    display('error^2 = ', error)\n",
    "    \n",
    "    plt.scatter(dates, prices)\n",
    "    plt.plot(dates, y_pred, 'red')\n",
    "    \n",
    "    \n",
    "wg.interact(lin_plot, s=(0,size), f=(0,size))"
   ]
  },
  {
   "cell_type": "code",
   "execution_count": 139,
   "metadata": {},
   "outputs": [
    {
     "data": {
      "application/vnd.jupyter.widget-view+json": {
       "model_id": "4c8e0abe241a47d3a65ce5e1121a5421",
       "version_major": 2,
       "version_minor": 0
      },
      "text/plain": [
       "aW50ZXJhY3RpdmUoY2hpbGRyZW49KEludFNsaWRlcih2YWx1ZT0wLCBkZXNjcmlwdGlvbj11J3MnLCBtYXg9MzEyNSksIEludFNsaWRlcih2YWx1ZT0zMTI1LCBkZXNjcmlwdGlvbj11J2YnLCDigKY=\n"
      ]
     },
     "metadata": {},
     "output_type": "display_data"
    },
    {
     "data": {
      "text/plain": [
       "<function __main__.lin_plot_mod>"
      ]
     },
     "execution_count": 139,
     "metadata": {},
     "output_type": "execute_result"
    }
   ],
   "source": [
    "# Here we calculate the regression line using the sklearn module\n",
    "from sklearn.linear_model import LinearRegression\n",
    "\n",
    "def lin_plot_mod(s=0, f=size):\n",
    "    \n",
    "    start_row = s\n",
    "    end_row = f\n",
    "\n",
    "    dates = df['Date'][start_row:end_row].values.astype(np.int64) // 10 ** 9\n",
    "    dates = dates.reshape(-1,1)\n",
    "    prices =  df['Close'][start_row:end_row]\n",
    "\n",
    "    \n",
    "    regressor = LinearRegression().fit(dates, prices)\n",
    "    y_pred = regressor.predict(dates)\n",
    "    display(regressor.score(dates,prices))\n",
    "\n",
    "    \n",
    "    plt.scatter(dates, prices)\n",
    "    plt.plot(dates, y_pred, 'red')\n",
    "    \n",
    "    \n",
    "wg.interact(lin_plot_mod, s=(0,size), f=(0,size))\n"
   ]
  },
  {
   "cell_type": "code",
   "execution_count": null,
   "metadata": {},
   "outputs": [],
   "source": []
  }
 ],
 "metadata": {
  "kernelspec": {
   "display_name": "Python 3",
   "language": "python",
   "name": "python3"
  },
  "language_info": {
   "codemirror_mode": {
    "name": "ipython",
    "version": 2
   },
   "file_extension": ".py",
   "mimetype": "text/x-python",
   "name": "python",
   "nbconvert_exporter": "python",
   "pygments_lexer": "ipython2",
   "version": "2.7.15rc1"
  }
 },
 "nbformat": 4,
 "nbformat_minor": 2
}
