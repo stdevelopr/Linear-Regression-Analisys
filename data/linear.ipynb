{
 "cells": [
  {
   "cell_type": "code",
   "execution_count": 2,
   "metadata": {},
   "outputs": [],
   "source": [
    "import ipywidgets as wg\n",
    "from IPython.display import display\n",
    "import pandas as pd\n",
    "import numpy as np\n",
    "import matplotlib.pyplot as plt"
   ]
  },
  {
   "cell_type": "code",
   "execution_count": 44,
   "metadata": {
    "scrolled": true
   },
   "outputs": [
    {
     "data": {
      "application/vnd.jupyter.widget-view+json": {
       "model_id": "2563ba4862334ed9a008990ebf946351",
       "version_major": 2,
       "version_minor": 0
      },
      "text/plain": [
       "aW50ZXJhY3RpdmUoY2hpbGRyZW49KEludFNsaWRlcih2YWx1ZT0wLCBkZXNjcmlwdGlvbj11J3MnLCBtYXg9MzEyNSksIEludFNsaWRlcih2YWx1ZT0zMTI1LCBkZXNjcmlwdGlvbj11J2YnLCDigKY=\n"
      ]
     },
     "metadata": {},
     "output_type": "display_data"
    },
    {
     "data": {
      "text/plain": [
       "<function __main__.lin_plot>"
      ]
     },
     "execution_count": 44,
     "metadata": {},
     "output_type": "execute_result"
    }
   ],
   "source": [
    "# Here we calculate the regression line using the fórmula\n",
    "\n",
    "df = pd.read_csv('Google.csv', usecols=['Date','Close'], parse_dates=['Date'])\n",
    "size = df.Date.size\n",
    "\n",
    "\n",
    "def lin_plot(s=0, f=size):\n",
    "    \n",
    "    start_row = s\n",
    "    end_row = f\n",
    "\n",
    "    dates = df['Date'][start_row:end_row].values.astype(np.int64) // 10 ** 9\n",
    "    prices =  df['Close'][start_row:end_row]\n",
    "\n",
    "    # Regression line: y = mx+ c\n",
    "    #The slope (m) formula is given by:\n",
    "    #        m= SUM((x-xm)(y-ym))/SUM((x-xm)^2)\n",
    "    slope = (((dates - dates.mean())*(prices-prices.mean())).sum())/(((dates-dates.mean())**2).sum())\n",
    "\n",
    "    #constant c = y-mx\n",
    "    c = prices.mean() - (dates.mean())*slope\n",
    "\n",
    "    #predicted values for the x data\n",
    "    y_pred = dates*slope + c    \n",
    "    \n",
    "#   The r² error calculated by SUM((y_pred - y_mean)²)/SUM((y - y_mean)²)\n",
    "#   More closer to the predicted line, more closer to one...\n",
    "    error = (((y_pred - prices.mean())**2).sum())/(((prices - prices.mean())**2).sum())\n",
    "    display('error^2 = ', error)\n",
    "    \n",
    "    plt.scatter(dates, prices)\n",
    "    plt.plot(dates, y_pred, 'red')\n",
    "    \n",
    "    \n",
    "wg.interact(lin_plot, s=(0,size), f=(0,size))"
   ]
  },
  {
   "cell_type": "code",
   "execution_count": 28,
   "metadata": {},
   "outputs": [
    {
     "data": {
      "application/vnd.jupyter.widget-view+json": {
       "model_id": "4db84befa0b6436894e2559619fca12f",
       "version_major": 2,
       "version_minor": 0
      },
      "text/plain": [
       "aW50ZXJhY3RpdmUoY2hpbGRyZW49KEludFNsaWRlcih2YWx1ZT0wLCBkZXNjcmlwdGlvbj11J3MnLCBtYXg9MzEyNSksIEludFNsaWRlcih2YWx1ZT0zMTI1LCBkZXNjcmlwdGlvbj11J2YnLCDigKY=\n"
      ]
     },
     "metadata": {},
     "output_type": "display_data"
    },
    {
     "data": {
      "text/plain": [
       "<function __main__.lin_plot_mod>"
      ]
     },
     "execution_count": 28,
     "metadata": {},
     "output_type": "execute_result"
    }
   ],
   "source": [
    "# Here we calculate the regression line using the sklearn module\n",
    "from sklearn.linear_model import LinearRegression\n",
    "\n",
    "def lin_plot_mod(s=0, f=size):\n",
    "    \n",
    "    start_row = s\n",
    "    end_row = f\n",
    "\n",
    "    dates = df['Date'][start_row:end_row].values.astype(np.int64) // 10 ** 9\n",
    "    dates = dates.reshape(-1,1)\n",
    "    prices =  df['Close'][start_row:end_row]\n",
    "\n",
    "    \n",
    "    regressor = LinearRegression().fit(dates, prices)\n",
    "    y_pred = regressor.predict(dates)\n",
    "    display(regressor.score(dates,prices))\n",
    "\n",
    "    \n",
    "    plt.scatter(dates, prices)\n",
    "    plt.plot(dates, y_pred, 'red')\n",
    "    \n",
    "    \n",
    "wg.interact(lin_plot_mod, s=(0,size), f=(0,size))\n"
   ]
  },
  {
   "cell_type": "code",
   "execution_count": 15,
   "metadata": {},
   "outputs": [
    {
     "data": {
      "text/plain": [
       "(3125, 2)"
      ]
     },
     "execution_count": 15,
     "metadata": {},
     "output_type": "execute_result"
    }
   ],
   "source": [
    "# OK. Since we have understood the regression formula, lets manipulate the dataset\n",
    "# First, lets check the shape of the dataset\n",
    "df.shape"
   ]
  },
  {
   "cell_type": "code",
   "execution_count": 210,
   "metadata": {},
   "outputs": [],
   "source": [
    "# Now we will create a function to return a slice of the dataset, \n",
    "# where the last element is the one to be predicted\n",
    "def slice_df(start, end):\n",
    "    return ((df['Date'][start:end].values.astype(np.int64) // 10 ** 9).reshape(-1,1), \n",
    "            df['Close'][start:end], \n",
    "            (df['Date'][end:end+1].values.astype(np.int64) // 10 ** 9).reshape(-1,1),\n",
    "            df['Close'][end:end+1])"
   ]
  },
  {
   "cell_type": "code",
   "execution_count": 331,
   "metadata": {},
   "outputs": [],
   "source": [
    "# lets slice the dataset and get the elements\n",
    "dates, prices, x_, y_ = slice_df(1,10)"
   ]
  },
  {
   "cell_type": "code",
   "execution_count": 332,
   "metadata": {},
   "outputs": [],
   "source": [
    "# Train the model\n",
    "regressor = LinearRegression().fit(dates, prices)\n",
    "y_pred = regressor.predict(x_)"
   ]
  },
  {
   "cell_type": "code",
   "execution_count": 333,
   "metadata": {},
   "outputs": [
    {
     "data": {
      "text/plain": [
       "<matplotlib.collections.PathCollection at 0x7f454c75ec90>"
      ]
     },
     "execution_count": 333,
     "metadata": {},
     "output_type": "execute_result"
    },
    {
     "data": {
      "image/png": "[encoded data removed]",
      "text/plain": [
       "<Figure size 432x288 with 1 Axes>"
      ]
     },
     "metadata": {
      "needs_background": "light"
     },
     "output_type": "display_data"
    }
   ],
   "source": [
    "# plot the actual (orange *) and the predicted values (green *)\n",
    "plt.scatter(dates, prices)\n",
    "plt.scatter(x_, y_, color='red', marker='*')\n",
    "plt.plot(dates, regressor.predict(dates))\n",
    "plt.scatter(x_, y_pred, color='green', marker='*')"
   ]
  },
  {
   "cell_type": "code",
   "execution_count": 335,
   "metadata": {},
   "outputs": [
    {
     "name": "stdout",
     "output_type": "stream",
     "text": [
      "R^2 error: 0.764043134973254\n",
      "Price percentage error: -0.7784739170919648%\n"
     ]
    }
   ],
   "source": [
    "# calculate the residuals (closer to 1 the better)\n",
    "# and the price prediction percentage error (closer to 0 the better):\n",
    "perc = ((y_pred - y_)/y_)*100\n",
    "print('R^2 error: ' + str(regressor.score(dates, prices)))\n",
    "print('Price percentage error: ' + str(perc.values[0]) + '%')"
   ]
  },
  {
   "cell_type": "code",
   "execution_count": null,
   "metadata": {},
   "outputs": [],
   "source": []
  },
  {
   "cell_type": "code",
   "execution_count": null,
   "metadata": {},
   "outputs": [],
   "source": []
  },
  {
   "cell_type": "code",
   "execution_count": null,
   "metadata": {},
   "outputs": [],
   "source": []
  }
 ],
 "metadata": {
  "kernelspec": {
   "display_name": "Python 3",
   "language": "python",
   "name": "python3"
  },
  "language_info": {
   "codemirror_mode": {
    "name": "ipython",
    "version": 2
   },
   "file_extension": ".py",
   "mimetype": "text/x-python",
   "name": "python",
   "nbconvert_exporter": "python",
   "pygments_lexer": "ipython2",
   "version": "2.7.15rc1"
  }
 },
 "nbformat": 4,
 "nbformat_minor": 2
}
